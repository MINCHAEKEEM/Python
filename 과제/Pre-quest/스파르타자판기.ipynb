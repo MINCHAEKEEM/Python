{
 "cells": [
  {
   "cell_type": "code",
   "execution_count": 75,
   "metadata": {},
   "outputs": [
    {
     "name": "stdout",
     "output_type": "stream",
     "text": [
      "사이다 1700원\n",
      "콜라 1900원\n",
      "식혜 2500원\n",
      "솔의눈 3000원\n"
     ]
    }
   ],
   "source": [
    "beverages = {\n",
    "    '사이다' : '1700원', \n",
    "    '콜라' : '1900원', \n",
    "    '식혜' : '2500원', \n",
    "    '솔의눈' : '3000원'\n",
    "    }\n",
    "\n",
    "for key, value in beverages.items():\n",
    "    menu = print(key, value)"
   ]
  },
  {
   "cell_type": "code",
   "execution_count": 119,
   "metadata": {},
   "outputs": [
    {
     "name": "stdout",
     "output_type": "stream",
     "text": [
      "어서오세요. 스파르타 자판기 입니다.\n",
      "메뉴 안에 없는 음료입니다.\n"
     ]
    }
   ],
   "source": [
    "beverages = {\n",
    "\t\t'사이다': 1700,\n",
    "\t\t'콜라': 1900,\n",
    "\t\t'식혜': 2500,\n",
    "\t\t'솔의눈': 3000\n",
    "}\n",
    "\n",
    "print('어서오세요. 스파르타 자판기 입니다.')\n",
    "\n",
    "def payments():        \n",
    "    while True:\n",
    "        money = int(input('금액을 넣어주세요.'))\n",
    "        pay = int(price)\n",
    "        change = (money - pay)\n",
    "        \n",
    "        if money < pay:\n",
    "            print('돈이 부족합니다. 금액을 더 넣어주세요.')\n",
    "            continue\n",
    "        elif money > pay:\n",
    "            print('잔액과 함께 음료를 챙겨가세요!')\n",
    "            result = print('잔액 :', change,'원')\n",
    "            return result\n",
    "        else:\n",
    "            print('음료가 나왔습니다. 챙겨가세요!')\n",
    "            break\n",
    "\n",
    "while True:\n",
    "    user_pick = input('음료를 선택하세요.')\n",
    "    sparta_have = beverages.keys()\n",
    "    price = beverages.get(user_pick)\n",
    "    \n",
    "    if not user_pick in sparta_have:\n",
    "        print('메뉴 안에 없는 음료입니다.')\n",
    "        break\n",
    "    else:\n",
    "        print(user_pick,'을 선택하셨군요! 금액은', price,'원 입니다.')\n",
    "        payments()\n",
    "        break\n",
    "        "
   ]
  },
  {
   "cell_type": "code",
   "execution_count": 120,
   "metadata": {},
   "outputs": [
    {
     "name": "stdout",
     "output_type": "stream",
     "text": [
      "어서오세요. 스파르타 자판기 입니다.\n",
      "식혜 을 선택하셨군요! 금액은 2500 원 입니다.\n",
      "돈이 부족합니다. 금액을 더 넣어주세요.\n",
      "음료가 나왔습니다. 챙겨가세요!\n"
     ]
    }
   ],
   "source": [
    "beverages = {\n",
    "\t\t'사이다': 1700,\n",
    "\t\t'콜라': 1900,\n",
    "\t\t'식혜': 2500,\n",
    "\t\t'솔의눈': 3000\n",
    "}\n",
    "\n",
    "print('어서오세요. 스파르타 자판기 입니다.')\n",
    "\n",
    "def payments():        \n",
    "    while True:\n",
    "        money = int(input('금액을 넣어주세요.'))\n",
    "        pay = int(price)\n",
    "        change = (money - pay)\n",
    "        \n",
    "        if money < pay:\n",
    "            print('돈이 부족합니다. 금액을 더 넣어주세요.')\n",
    "            continue\n",
    "        elif money > pay:\n",
    "            print('잔액과 함께 음료를 챙겨가세요!')\n",
    "            result = print('잔액 :', change,'원')\n",
    "            return result\n",
    "        else:\n",
    "            print('음료가 나왔습니다. 챙겨가세요!')\n",
    "            break\n",
    "\n",
    "while True:\n",
    "    user_pick = input('음료를 선택하세요.')\n",
    "    sparta_have = beverages.keys()\n",
    "    price = beverages.get(user_pick)\n",
    "    \n",
    "    if not user_pick in sparta_have:\n",
    "        print('메뉴 안에 없는 음료입니다.')\n",
    "        break\n",
    "    else:\n",
    "        print(user_pick,'을 선택하셨군요! 금액은', price,'원 입니다.')\n",
    "        payments()\n",
    "        break"
   ]
  },
  {
   "cell_type": "code",
   "execution_count": 121,
   "metadata": {},
   "outputs": [
    {
     "name": "stdout",
     "output_type": "stream",
     "text": [
      "어서오세요. 스파르타 자판기 입니다.\n",
      "솔의눈 을 선택하셨군요! 금액은 3000 원 입니다.\n",
      "잔액과 함께 음료를 챙겨가세요!\n",
      "잔액 : 2000 원\n"
     ]
    }
   ],
   "source": [
    "beverages = {\n",
    "\t\t'사이다': 1700,\n",
    "\t\t'콜라': 1900,\n",
    "\t\t'식혜': 2500,\n",
    "\t\t'솔의눈': 3000\n",
    "}\n",
    "\n",
    "print('어서오세요. 스파르타 자판기 입니다.')\n",
    "\n",
    "def payments():        \n",
    "    while True:\n",
    "        money = int(input('금액을 넣어주세요.'))\n",
    "        pay = int(price)\n",
    "        change = (money - pay)\n",
    "        \n",
    "        if money < pay:\n",
    "            print('돈이 부족합니다. 금액을 더 넣어주세요.')\n",
    "            continue\n",
    "        elif money > pay:\n",
    "            print('잔액과 함께 음료를 챙겨가세요!')\n",
    "            result = print('잔액 :', change,'원')\n",
    "            return result\n",
    "        else:\n",
    "            print('음료가 나왔습니다. 챙겨가세요!')\n",
    "            break\n",
    "\n",
    "while True:\n",
    "    user_pick = input('음료를 선택하세요.')\n",
    "    sparta_have = beverages.keys()\n",
    "    price = beverages.get(user_pick)\n",
    "    \n",
    "    if not user_pick in sparta_have:\n",
    "        print('메뉴 안에 없는 음료입니다.')\n",
    "        break\n",
    "    else:\n",
    "        print(user_pick,'을 선택하셨군요! 금액은', price,'원 입니다.')\n",
    "        payments()\n",
    "        break"
   ]
  },
  {
   "cell_type": "code",
   "execution_count": null,
   "metadata": {},
   "outputs": [],
   "source": []
  }
 ],
 "metadata": {
  "kernelspec": {
   "display_name": "base",
   "language": "python",
   "name": "python3"
  },
  "language_info": {
   "codemirror_mode": {
    "name": "ipython",
    "version": 3
   },
   "file_extension": ".py",
   "mimetype": "text/x-python",
   "name": "python",
   "nbconvert_exporter": "python",
   "pygments_lexer": "ipython3",
   "version": "3.12.7"
  }
 },
 "nbformat": 4,
 "nbformat_minor": 2
}
