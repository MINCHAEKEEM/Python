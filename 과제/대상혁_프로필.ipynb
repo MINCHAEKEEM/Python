{
 "cells": [
  {
   "cell_type": "code",
   "execution_count": null,
   "metadata": {},
   "outputs": [
    {
     "name": "stdout",
     "output_type": "stream",
     "text": [
      "결과를 출력합니다.\n",
      "이름: 페이커, 성별: male\n",
      "나이: 28\n"
     ]
    }
   ],
   "source": [
    "# 필수과제\n",
    "class Person:  # 클래스 호출로 객체라는걸 만들어볼거야\n",
    "    def __init__(self, name, age, gender):  #  생성자 __init__ 함수 예전에 이거 함수 이름 바꿀 수 있는 줄 알고 별난리 다쳐봄\n",
    "        self.name = name #  객체의 이름값은 __init__ 함수 인수의 name\n",
    "        self.gender = gender  # 성별은 gender\n",
    "        self.age = age  # 나이는 age 로 받아볼게요\n",
    "\n",
    "    def display(self):  # 객체의 행동을 불러내는 함수\n",
    "        print(f\"이름: {self.name}, 성별: {self.gender}\", end='\\n');print(f\"나이: {self.age}\")\n",
    "\n",
    "# Person(age, name, gender) 값으로 사용자가 입력하는 값을 받아보도록 설정\n",
    "person1 = Person(age = int(input(\"나이를 입력하세요.\")), name = input(\"이름을 입력하세요.\"), gender = input(\"성별을 입력하세요.\"))\n",
    "print(\"결과를 출력합니다.\")\n",
    "person1.display()  # 대상혁 프로필 만들기 넘 힘들다 상혁아,,"
   ]
  },
  {
   "cell_type": "code",
   "execution_count": 21,
   "metadata": {},
   "outputs": [
    {
     "name": "stdout",
     "output_type": "stream",
     "text": [
      "성별을 다시 입력해주세요. male 혹은 female 만 입력 가능합니다.\n",
      "female 을 입력하셨습니다.\n",
      "결과를 출력합니다.\n",
      "이름: 페이커, 성별: female\n",
      "나이: 17세\n",
      "안녕하세요, 페이커! 아직 성장 중이시군요!\n"
     ]
    }
   ],
   "source": [
    "# 도전과제 라인\n",
    "class Person:  # 클래스 호출로 객체라는걸 만들어볼거야\n",
    "    def __init__(self, name, age, gender):  #  생성자 __init__ 함수 예전에 이거 함수 이름 바꿀 수 있는 줄 알고 별난리 다쳐봄\n",
    "        self.name = name #  객체의 이름값은 __init__ 함수 인수의 name\n",
    "        self.gender = gender  # 성별은 gender\n",
    "        self.age = age  # 나이는 age 로 받아볼게요\n",
    "\n",
    "    def display(self):  # 객체의 행동을 불러내는 함수\n",
    "        print(f\"이름: {self.name}, 성별: {self.gender}\", end='\\n');print(f\"나이: {self.age}세\")\n",
    "        \n",
    "    def gender_is():  # 성별 입력문자 제한해줄 함수\n",
    "        while True:\n",
    "            result = input(\"성별을 입력하세요.\")\n",
    "            allowed_chars = [\"male\", \"female\"]  # 허용 대상 문자열\n",
    "\n",
    "            if result in allowed_chars:  #유효한 문자를 입력했을 경우\n",
    "                print(result,\"을 입력하셨습니다.\")  \n",
    "                \n",
    "                if result == \"male\":  \n",
    "                    return result  # input 값을 반환합니다\n",
    "                elif result == \"female\":\n",
    "                    return result\n",
    "            else:  # 허용 대상 외 다른 문자를 입력했을 경우\n",
    "                print(\"성별을 다시 입력해주세요. male 혹은 female 만 입력 가능합니다.\")\n",
    "                continue  # input 반복\n",
    "            \n",
    "    def greet(self):  # 나이에 따라 인사 문구를 다르게 출력해줄 함수\n",
    "        while True:\n",
    "            age_answer = self.age  # age_answer 은 생성자의 age 로 받겠습니다\n",
    "            \n",
    "            if age_answer <= 19:  # 열아홉살과 같거나 어릴 경우\n",
    "                print(f\"안녕하세요, {self.name}! 아직 성장 중이시군요!\")  # 아직 어리군요!\n",
    "                break\n",
    "            else:  # 열아홉살보다 클 경우    \n",
    "                print(f\"안녕하세요, {self.name}! 성인시군요!\")\n",
    "                break    \n",
    "    \n",
    "# Person.gender 에다가 위에서 만들어준 함수값을 할당\n",
    "person1 = Person(age = int(input(\"나이를 숫자로만 입력하세요.\")), name = input(\"이름을 입력하세요.\"), gender = Person.gender_is())\n",
    "\n",
    "print(\"결과를 출력합니다.\")\n",
    "person1.display()  # 대상혁 프로필 만들기 넘 힘들다 상혁아,,\n",
    "person1.greet()\n",
    "\n"
   ]
  },
  {
   "cell_type": "code",
   "execution_count": 22,
   "metadata": {},
   "outputs": [
    {
     "name": "stdout",
     "output_type": "stream",
     "text": [
      "성별을 다시 입력해주세요. male 혹은 female 만 입력 가능합니다.\n",
      "male 을 입력하셨습니다.\n",
      "결과를 출력합니다.\n",
      "이름: 페이커, 성별: male\n",
      "나이: 28세\n",
      "안녕하세요, 페이커! 성인시군요!\n"
     ]
    }
   ],
   "source": [
    "# 도전과제 라인\n",
    "class Person:  # 클래스 호출로 객체라는걸 만들어볼거야\n",
    "    def __init__(self, name, age, gender):  #  생성자 __init__ 함수 예전에 이거 함수 이름 바꿀 수 있는 줄 알고 별난리 다쳐봄\n",
    "        self.name = name #  객체의 이름값은 __init__ 함수 인수의 name\n",
    "        self.gender = gender  # 성별은 gender\n",
    "        self.age = age  # 나이는 age 로 받아볼게요\n",
    "\n",
    "    def display(self):  # 객체의 행동을 불러내는 함수\n",
    "        print(f\"이름: {self.name}, 성별: {self.gender}\", end='\\n');print(f\"나이: {self.age}세\")\n",
    "        \n",
    "    def gender_is():  # 성별 입력문자 제한해줄 함수\n",
    "        while True:\n",
    "            result = input(\"성별을 입력하세요.\")\n",
    "            allowed_chars = [\"male\", \"female\"]  # 허용 대상 문자열\n",
    "\n",
    "            if result in allowed_chars:  #유효한 문자를 입력했을 경우\n",
    "                print(result,\"을 입력하셨습니다.\")  \n",
    "                \n",
    "                if result == \"male\":  \n",
    "                    return result  # input 값을 반환합니다\n",
    "                elif result == \"female\":\n",
    "                    return result\n",
    "            else:  # 허용 대상 외 다른 문자를 입력했을 경우\n",
    "                print(\"성별을 다시 입력해주세요. male 혹은 female 만 입력 가능합니다.\")\n",
    "                continue  # input 반복\n",
    "            \n",
    "    def greet(self):  # 나이에 따라 인사 문구를 다르게 출력해줄 함수\n",
    "        while True:\n",
    "            age_answer = self.age  # age_answer 은 생성자의 age 로 받겠습니다\n",
    "            \n",
    "            if age_answer <= 19:  # 열아홉살과 같거나 어릴 경우\n",
    "                print(f\"안녕하세요, {self.name}! 아직 성장 중이시군요!\")  # 아직 어리군요!\n",
    "                break\n",
    "            else:  # 열아홉살보다 클 경우    \n",
    "                print(f\"안녕하세요, {self.name}! 성인시군요!\")\n",
    "                break    \n",
    "    \n",
    "# Person.gender 에다가 위에서 만들어준 함수값을 할당\n",
    "person1 = Person(age = int(input(\"나이를 숫자로만 입력하세요.\")), name = input(\"이름을 입력하세요.\"), gender = Person.gender_is())\n",
    "\n",
    "print(\"결과를 출력합니다.\")\n",
    "person1.display()  # 대상혁 프로필 만들기 넘 힘들다 상혁아,,\n",
    "person1.greet()"
   ]
  },
  {
   "cell_type": "code",
   "execution_count": null,
   "metadata": {},
   "outputs": [],
   "source": []
  }
 ],
 "metadata": {
  "kernelspec": {
   "display_name": "base",
   "language": "python",
   "name": "python3"
  },
  "language_info": {
   "codemirror_mode": {
    "name": "ipython",
    "version": 3
   },
   "file_extension": ".py",
   "mimetype": "text/x-python",
   "name": "python",
   "nbconvert_exporter": "python",
   "pygments_lexer": "ipython3",
   "version": "3.12.7"
  }
 },
 "nbformat": 4,
 "nbformat_minor": 2
}
