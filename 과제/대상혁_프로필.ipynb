{
 "cells": [
  {
   "cell_type": "code",
   "execution_count": 2,
   "metadata": {},
   "outputs": [
    {
     "name": "stdout",
     "output_type": "stream",
     "text": [
      "결과를 출력합니다.\n",
      "이름: 페이커, 성별: male\n",
      "나이: 28\n"
     ]
    }
   ],
   "source": [
    "class Person:  # 클래스 호출~ 난 이제부터 Person 이라는 애로 객체라는걸 만들어볼거야\n",
    "    def __init__(self, age, name, gender):  #  생성자 __init__ 함수 예전에 이거 함수 이름 바꿀 수 있는 줄 알고 별난리 다쳐봄\n",
    "        self.name = name #  객체의 이름은 __init__ 함수 인수의 name\n",
    "        self.gender = gender  # 성별은 gender\n",
    "        self.age = age  # 나이는 age 로 받을게욥~!\n",
    "\n",
    "    def display(self):  # 객체의 행동을 불러내는 함수 만들어볼게요?\n",
    "        print(f\"이름: {self.name}, 성별: {self.gender}\", end='\\n');print(f\"나이: {self.age}\")\n",
    "\n",
    "# 그냥 Person()값으로 안에 input()만 넣어주면 간단하게 끝날 것을 왜 사서 고생하는지,, 떼잉 쯧,,,\n",
    "person1 = Person(age = int(input(\"나이를 입력하세요.\")), name = input(\"이름을 입력하세요.\"), gender = input(\"성별을 입력하세요.\"))\n",
    "print(\"결과를 출력합니다.\")\n",
    "person1.display()  # 대상혁 프로필 만들기 넘 힘들다 상혁아,,"
   ]
  },
  {
   "cell_type": "code",
   "execution_count": null,
   "metadata": {},
   "outputs": [],
   "source": []
  }
 ],
 "metadata": {
  "kernelspec": {
   "display_name": "base",
   "language": "python",
   "name": "python3"
  },
  "language_info": {
   "codemirror_mode": {
    "name": "ipython",
    "version": 3
   },
   "file_extension": ".py",
   "mimetype": "text/x-python",
   "name": "python",
   "nbconvert_exporter": "python",
   "pygments_lexer": "ipython3",
   "version": "3.12.7"
  }
 },
 "nbformat": 4,
 "nbformat_minor": 2
}
