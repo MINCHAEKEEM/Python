{
 "cells": [
  {
   "cell_type": "code",
   "execution_count": 4,
   "metadata": {},
   "outputs": [
    {
     "name": "stdout",
     "output_type": "stream",
     "text": [
      "닉네임을 뽑아봅시다!\n",
      "멋있는 바보같은 개발자\n"
     ]
    }
   ],
   "source": [
    "# 기절초풍, 멋있는, 재미있는\n",
    "# 도전적인, 노란색의, 바보같은\n",
    "# 돌고래, 개발자, 오랑우탄\n",
    "\n",
    "print(\"닉네임을 뽑아봅시다!\")\n",
    "\n",
    "import random\n",
    "\n",
    "def get_random_nickname():\n",
    "    first_list = [\"기절초풍 \", \"멋있는 \", \"재미있는 \"]\n",
    "    second_list = [\"도전적인 \", \"노란색의 \", \"바보같은 \"]\n",
    "    third_list = [\"돌고래\", \"개발자\", \"오랑우탄\"]\n",
    "    f = random.choice(first_list)\n",
    "    s = random.choice(second_list)\n",
    "    t = random.choice(third_list)\n",
    "    result = f + s + t\n",
    "    return result\n",
    "\n",
    "my_nickname = get_random_nickname()\n",
    "print(my_nickname)"
   ]
  },
  {
   "cell_type": "code",
   "execution_count": 6,
   "metadata": {},
   "outputs": [
    {
     "name": "stdout",
     "output_type": "stream",
     "text": [
      "닉네임을 뽑아봅시다!\n",
      "재미있는 도전적인 돌고래\n"
     ]
    }
   ],
   "source": [
    "# 기절초풍, 멋있는, 재미있는\n",
    "# 도전적인, 노란색의, 바보같은\n",
    "# 돌고래, 개발자, 오랑우탄\n",
    "\n",
    "print(\"닉네임을 뽑아봅시다!\")\n",
    "\n",
    "import random\n",
    "\n",
    "def get_random_nickname():\n",
    "    first_list = [\"기절초풍 \", \"멋있는 \", \"재미있는 \"]\n",
    "    second_list = [\"도전적인 \", \"노란색의 \", \"바보같은 \"]\n",
    "    third_list = [\"돌고래\", \"개발자\", \"오랑우탄\"]\n",
    "    f = random.choice(first_list)\n",
    "    s = random.choice(second_list)\n",
    "    t = random.choice(third_list)\n",
    "    result = f + s + t\n",
    "    return result\n",
    "\n",
    "my_nickname = get_random_nickname()\n",
    "print(my_nickname)"
   ]
  },
  {
   "cell_type": "code",
   "execution_count": 11,
   "metadata": {},
   "outputs": [
    {
     "name": "stdout",
     "output_type": "stream",
     "text": [
      "닉네임을 뽑아봅시다!\n",
      "재미있는 바보같은 개발자\n"
     ]
    }
   ],
   "source": [
    "# 기절초풍, 멋있는, 재미있는\n",
    "# 도전적인, 노란색의, 바보같은\n",
    "# 돌고래, 개발자, 오랑우탄\n",
    "\n",
    "print(\"닉네임을 뽑아봅시다!\")\n",
    "\n",
    "import random\n",
    "\n",
    "def get_random_nickname():\n",
    "    first_list = [\"기절초풍 \", \"멋있는 \", \"재미있는 \"]\n",
    "    second_list = [\"도전적인 \", \"노란색의 \", \"바보같은 \"]\n",
    "    third_list = [\"돌고래\", \"개발자\", \"오랑우탄\"]\n",
    "    f = random.choice(first_list)\n",
    "    s = random.choice(second_list)\n",
    "    t = random.choice(third_list)\n",
    "    result = f + s + t\n",
    "    return result\n",
    "\n",
    "my_nickname = get_random_nickname()\n",
    "print(my_nickname)"
   ]
  },
  {
   "cell_type": "code",
   "execution_count": null,
   "metadata": {},
   "outputs": [],
   "source": []
  }
 ],
 "metadata": {
  "kernelspec": {
   "display_name": "base",
   "language": "python",
   "name": "python3"
  },
  "language_info": {
   "codemirror_mode": {
    "name": "ipython",
    "version": 3
   },
   "file_extension": ".py",
   "mimetype": "text/x-python",
   "name": "python",
   "nbconvert_exporter": "python",
   "pygments_lexer": "ipython3",
   "version": "3.12.7"
  }
 },
 "nbformat": 4,
 "nbformat_minor": 2
}
