{
 "cells": [
  {
   "cell_type": "code",
   "execution_count": null,
   "id": "62a82118-23b7-4106-83bf-1677bd3b8c38",
   "metadata": {},
   "outputs": [
    {
     "name": "stdout",
     "output_type": "stream",
     "text": [
      "어서오세요. 이것은 '랜덤 숫자 맞추기 게임' 입니다.\n",
      "숫자를 조금 낮춰보는건 어떨까요?\n",
      "숫자를 조금 낮춰보는건 어떨까요?\n",
      "숫자를 조금 낮춰보는건 어떨까요?\n",
      "숫자를 조금 낮춰보는건 어떨까요?\n",
      "숫자가 작습니다. 숫자를 조금 올려보는건 어떨까요?\n",
      "숫자가 작습니다. 숫자를 조금 올려보는건 어떨까요?\n",
      "숫자가 작습니다. 숫자를 조금 올려보는건 어떨까요?\n",
      "숫자가 작습니다. 숫자를 조금 올려보는건 어떨까요?\n",
      "흠, 정답을 입력하셔서 게임을 종료합니다.\n"
     ]
    }
   ],
   "source": [
    "# 필수과제\n",
    "import random  # import random 어서오시고~\n",
    "\n",
    "print(\"어서오세요. 이것은 '랜덤 숫자 맞추기 게임' 입니다.\")\n",
    "\n",
    "items = [1, 2, 3, 4, 5, 6, 7, 8, 9, 10]  # 다른분들은 randint 많이 쓰시던데 난 걍 choice 를 선택함\n",
    "answer = random.choice(items)  # choice 는 리스트, 튜플, 문자열 같은데서만 쓸 수 있음다\n",
    "\n",
    "\n",
    "while True:  # 애증의 무한동력 반복문 ㅋ\n",
    "    x = int(input(\"이 숫자는 무엇일까요?\"))\n",
    "    if answer == x:\n",
    "        print(\"흠, 정답을 입력하셔서 게임을 종료합니다.\")\n",
    "        break\n",
    "    elif x < answer:\n",
    "        print(\"숫자가 작습니다. 숫자를 조금 올려보는건 어떨까요?\")\n",
    "        # x = int(input(\"숫자를 조금 올려보는건 어떨까요?\")) << 오답\n",
    "    elif x > answer:\n",
    "        print(\"숫자를 조금 낮춰보는건 어떨까요?\")\n",
    "        # int(input(\"숫자를 조금 낮춰보는건 어떨까요?\")) << 오답\n",
    "    else:\n",
    "        print(\"후후후. 숫자를 좀 더 신중하게 생각해보고 다시 도전하세요.\")\n"
   ]
  },
  {
   "cell_type": "code",
   "execution_count": 2,
   "id": "ed0ec64b-b5f3-4793-922b-55d559be1146",
   "metadata": {},
   "outputs": [
    {
     "name": "stdout",
     "output_type": "stream",
     "text": [
      "어서오세요. 이것은 '랜덤 숫자 맞추기 게임' 입니다.\n",
      "숫자를 조금 낮춰보는건 어떨까요?\n",
      "숫자를 조금 낮춰보는건 어떨까요?\n",
      "숫자가 작습니다. 숫자를 조금 올려보는건 어떨까요?\n",
      "흠, 정답을 입력하셔서 게임을 중단합니다.\n",
      "y\n",
      "게임을 시작합니다.\n",
      "숫자를 조금 낮춰보는건 어떨까요?\n",
      "숫자를 조금 낮춰보는건 어떨까요?\n",
      "숫자를 조금 낮춰보는건 어떨까요?\n",
      "숫자를 조금 낮춰보는건 어떨까요?\n",
      "숫자가 작습니다. 숫자를 조금 올려보는건 어떨까요?\n",
      "흠, 정답을 입력하셔서 게임을 중단합니다.\n",
      "n\n",
      "게임을 종료합니다.\n"
     ]
    },
    {
     "ename": "SystemExit",
     "evalue": "",
     "output_type": "error",
     "traceback": [
      "An exception has occurred, use %tb to see the full traceback.\n",
      "\u001b[0;31mSystemExit\u001b[0m\n"
     ]
    }
   ],
   "source": [
    "# 도전과제 라인까지 추가된 버전\n",
    "import random  # import random 어서오시고~\n",
    "import sys  # sys 함수도 불러와볼게요 이유는 밑에 있음ㅋ,,\n",
    "\n",
    "print(\"어서오세요. 이것은 '랜덤 숫자 맞추기 게임' 입니다.\")\n",
    "\n",
    "items = [1, 2, 3, 4, 5, 6, 7, 8, 9, 10]  # 다른분들은 randint 많이 쓰시던데 난 걍 choice 를 선택함\n",
    "answer = random.choice(items)  # choice 는 리스트, 튜플, 문자열 같은데서만 쓸 수 있음다\n",
    "\n",
    "def main():  # 종료 함수를 만들어봅니다 왜냐면 exit() 이 말을 안듣더라고,, 내가 잘 못 한건지,,,\n",
    "    sys.exit()\n",
    "\n",
    "def limit_loop():  #정답을 맞췄을 때 행동할 함수를 만들어볼게요?\n",
    "    while True:  # 근데 이제 무한 반복문을 곁들인,,\n",
    "            question = input(\"게임을 다시 시작하시겠습니까? 다시 하려면 y를, 종료하시려면 n을 누르세요.\")\n",
    "            \n",
    "            allowed_chars = [\"y\", \"n\"]  # 입력 값을 y 와 n 으로 한정해줍니다\n",
    "            result = allowed_chars\n",
    "            \n",
    "            if all(c in allowed_chars for c in question):  # 입력 값이 제대로 입력되는지 볼거임\n",
    "                print(question)\n",
    "            if question == \"y\":  # 사용자가 y 를 선택한 경우\n",
    "                print(\"게임을 시작합니다.\")\n",
    "                return True  # 숫자게임 반복문으로 돌아가라\n",
    "            elif question == \"n\":  # 사용자가 n 을 선택한 경우\n",
    "                print(\"게임을 종료합니다.\")\n",
    "                main()  # 종료 함수 호출!!!!\n",
    "            else:  # y와 n 외에 다른 값을 입력한 경우\n",
    "                print(\"허용되지 않은 문자가 포함되어 있습니다. 다시 입력하세요.\")  # 응 안봐줘 돌아가~ㅋ\n",
    "                print(\"유효한 입력:\", result)  # 니가 입력할 수 있는건 result = allowed_chars 의 값뿐임ㅋㅋ\n",
    "                continue  # 그럴 경우 question 무한 루프~~~~\n",
    "\n",
    "\n",
    "while True:  # 애증의 무한동력 반복문 ㅋ\n",
    "    x = int(input(\"이 숫자는 무엇일까요?\"))\n",
    "\n",
    "    if not (1 <= x < 11):\n",
    "        print(\"숫자의 입력범위가 넘어갔습니다. 1 에서 10 사이로 다시 입력해주세요.\")\n",
    "        continue\n",
    "    if answer == x:\n",
    "        print(\"흠, 정답을 입력하셔서 게임을 중단합니다.\")\n",
    "        limit_loop()  # 위에서 만들어준 게임 재진행 여부를 위해서 만들어준 함수 호출!!!\n",
    "    elif x < answer:\n",
    "        print(\"숫자가 작습니다. 숫자를 조금 올려보는건 어떨까요?\")\n",
    "        # x = int(input(\"숫자를 조금 올려보는건 어떨까요?\")) << 오답\n",
    "    elif x > answer:\n",
    "        print(\"숫자를 조금 낮춰보는건 어떨까요?\")\n",
    "        # int(input(\"숫자를 조금 낮춰보는건 어떨까요?\")) << 오답       \n",
    "            "
   ]
  },
  {
   "cell_type": "code",
   "execution_count": null,
   "id": "d176bc04-f1d2-4384-89ab-f777a6a226b3",
   "metadata": {},
   "outputs": [],
   "source": []
  },
  {
   "cell_type": "code",
   "execution_count": null,
   "id": "9c7d522c",
   "metadata": {},
   "outputs": [
    {
     "name": "stdout",
     "output_type": "stream",
     "text": [
      "어서오세요. 이것은 '랜덤 숫자 맞추기 게임' 입니다.\n",
      "숫자가 작습니다. 숫자를 조금 올려보는건 어떨까요?\n",
      "숫자가 작습니다. 숫자를 조금 올려보는건 어떨까요?\n",
      "흠, 정답을 입력하셔서 게임을 중단합니다.\n",
      "y\n",
      "게임을 시작합니다.\n",
      "숫자가 작습니다. 숫자를 조금 올려보는건 어떨까요?\n",
      "숫자가 작습니다. 숫자를 조금 올려보는건 어떨까요?\n",
      "흠, 정답을 입력하셔서 게임을 중단합니다.\n",
      "n\n",
      "게임을 종료합니다.\n"
     ]
    },
    {
     "ename": "SystemExit",
     "evalue": "",
     "output_type": "error",
     "traceback": [
      "An exception has occurred, use %tb to see the full traceback.\n",
      "\u001b[0;31mSystemExit\u001b[0m\n"
     ]
    }
   ],
   "source": [
    "# 얘는 바로 윗 코드랑 구동방식을 아주 살짝 바꿔준 버전임,,,\n",
    "import random  # import random 어서오시고~\n",
    "import sys  # sys 함수도 불러와볼게요 이유는 밑에 있음ㅋ,,\n",
    "\n",
    "print(\"어서오세요. 이것은 '랜덤 숫자 맞추기 게임' 입니다.\")\n",
    "\n",
    "items = [1, 2, 3, 4, 5, 6, 7, 8, 9, 10]  # 다른분들은 randint 많이 쓰시던데 난 걍 choice 를 선택함\n",
    "answer = random.choice(items)  # choice 는 리스트, 튜플, 문자열 같은데서만 쓸 수 있음다\n",
    "\n",
    "def limit_loop():  #정답을 맞췄을 때 행동할 함수를 만들어볼게요?\n",
    "    while True:  # 근데 이제 무한 반복문을 곁들인,,\n",
    "            question = input(\"게임을 다시 시작하시겠습니까? 다시 하려면 y를, 종료하시려면 n을 누르세요.\")\n",
    "            \n",
    "            allowed_chars = [\"y\", \"n\"]  # 입력 값을 y 와 n 으로 한정해줍니다\n",
    "            result = allowed_chars\n",
    "            \n",
    "            if all(c in allowed_chars for c in question):  # 입력 값이 제대로 입력되는지 볼거임\n",
    "                print(question)\n",
    "            if question == \"y\":  # 사용자가 y 를 선택한 경우\n",
    "                print(\"게임을 시작합니다.\")\n",
    "                return True  # 숫자게임 반복문으로 돌아가라\n",
    "            elif question == \"n\":  # 사용자가 n 을 선택한 경우\n",
    "                print(\"게임을 종료합니다.\")\n",
    "                sys.exit()  # 바로 sys.exit() 입력으로 게임 탈출!!!! 위에 함수를 만든 버전이랑 일부러 다르게 해봄\n",
    "            else:  # y와 n 외에 다른 값을 입력한 경우\n",
    "                print(\"허용되지 않은 문자가 포함되어 있습니다. 다시 입력하세요.\")  # 응 안봐줘 돌아가~ㅋ\n",
    "                print(\"유효한 입력:\", result)  # 니가 입력할 수 있는건 result = allowed_chars 의 값뿐임ㅋㅋ\n",
    "                continue  # 그럴 경우 question 무한 루프~~~~\n",
    "\n",
    "\n",
    "while True:  # 애증의 무한동력 반복문 ㅋ\n",
    "    x = int(input(\"이 숫자는 무엇일까요?\"))\n",
    "\n",
    "    if not (1 <= x < 11):\n",
    "        print(\"숫자의 입력범위가 넘어갔습니다. 1 에서 10 사이로 다시 입력해주세요.\")\n",
    "        continue\n",
    "    if answer == x:\n",
    "        print(\"흠, 정답을 입력하셔서 게임을 중단합니다.\")\n",
    "        limit_loop()  # 위에서 만들어준 게임 재진행 여부를 위해서 만들어준 함수 호출!!!\n",
    "    elif x < answer:\n",
    "        print(\"숫자가 작습니다. 숫자를 조금 올려보는건 어떨까요?\")\n",
    "        # x = int(input(\"숫자를 조금 올려보는건 어떨까요?\")) << 오답\n",
    "    elif x > answer:\n",
    "        print(\"숫자를 조금 낮춰보는건 어떨까요?\")\n",
    "        # int(input(\"숫자를 조금 낮춰보는건 어떨까요?\")) << 오답\n",
    "            "
   ]
  },
  {
   "cell_type": "code",
   "execution_count": null,
   "id": "12437f56",
   "metadata": {},
   "outputs": [],
   "source": []
  }
 ],
 "metadata": {
  "kernelspec": {
   "display_name": "base",
   "language": "python",
   "name": "python3"
  },
  "language_info": {
   "codemirror_mode": {
    "name": "ipython",
    "version": 3
   },
   "file_extension": ".py",
   "mimetype": "text/x-python",
   "name": "python",
   "nbconvert_exporter": "python",
   "pygments_lexer": "ipython3",
   "version": "3.12.7"
  }
 },
 "nbformat": 4,
 "nbformat_minor": 5
}
