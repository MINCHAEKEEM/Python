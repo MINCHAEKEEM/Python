{
 "cells": [
  {
   "cell_type": "code",
   "execution_count": 11,
   "id": "62a82118-23b7-4106-83bf-1677bd3b8c38",
   "metadata": {},
   "outputs": [
    {
     "name": "stdout",
     "output_type": "stream",
     "text": [
      "어서오세요. 이것은 '랜덤 숫자 맞추기 게임' 입니다.\n"
     ]
    },
    {
     "name": "stdin",
     "output_type": "stream",
     "text": [
      "이 숫자는 무엇일까요? 7\n"
     ]
    },
    {
     "name": "stdout",
     "output_type": "stream",
     "text": [
      "숫자를 조금 낮춰보는건 어떨까요?\n"
     ]
    },
    {
     "name": "stdin",
     "output_type": "stream",
     "text": [
      "이 숫자는 무엇일까요? 5\n"
     ]
    },
    {
     "name": "stdout",
     "output_type": "stream",
     "text": [
      "숫자가 작습니다. 숫자를 조금 올려보는건 어떨까요?\n"
     ]
    },
    {
     "name": "stdin",
     "output_type": "stream",
     "text": [
      "이 숫자는 무엇일까요? 6\n"
     ]
    },
    {
     "name": "stdout",
     "output_type": "stream",
     "text": [
      "흠, 정답을 입력하셔서 게임을 종료합니다.\n"
     ]
    }
   ],
   "source": [
    "import random  # import random 어서오시고~\n",
    "\n",
    "print(\"어서오세요. 이것은 '랜덤 숫자 맞추기 게임' 입니다.\")\n",
    "\n",
    "items = [1, 2, 3, 4, 5, 6, 7, 8, 9, 10]  # 다른분들은 randint 많이 쓰시던데 난 걍 choice 를 선택함\n",
    "answer = random.choice(items)  # choice 는 리스트, 튜플, 문자열 같은데서만 쓸 수 있음다\n",
    "\n",
    "\n",
    "while True:  # 애증의 무한동력 반복문 ㅋ\n",
    "    x = int(input(\"이 숫자는 무엇일까요?\"))\n",
    "    if answer == x:\n",
    "        print(\"흠, 정답을 입력하셔서 게임을 종료합니다.\")\n",
    "        break\n",
    "    elif x < answer:\n",
    "        print(\"숫자가 작습니다. 숫자를 조금 올려보는건 어떨까요?\")\n",
    "        # x = int(input(\"숫자를 조금 올려보는건 어떨까요?\")) << 오답\n",
    "    elif x > answer:\n",
    "        print(\"숫자를 조금 낮춰보는건 어떨까요?\")\n",
    "        # int(input(\"숫자를 조금 낮춰보는건 어떨까요?\")) << 오답\n",
    "    else:\n",
    "        print(\"후후후. 숫자를 좀 더 신중하게 생각해보고 다시 도전하세요.\")\n"
   ]
  },
  {
   "cell_type": "code",
   "execution_count": null,
   "id": "ed0ec64b-b5f3-4793-922b-55d559be1146",
   "metadata": {},
   "outputs": [],
   "source": []
  },
  {
   "cell_type": "code",
   "execution_count": null,
   "id": "d176bc04-f1d2-4384-89ab-f777a6a226b3",
   "metadata": {},
   "outputs": [],
   "source": []
  }
 ],
 "metadata": {
  "kernelspec": {
   "display_name": "Python 3 (ipykernel)",
   "language": "python",
   "name": "python3"
  },
  "language_info": {
   "codemirror_mode": {
    "name": "ipython",
    "version": 3
   },
   "file_extension": ".py",
   "mimetype": "text/x-python",
   "name": "python",
   "nbconvert_exporter": "python",
   "pygments_lexer": "ipython3",
   "version": "3.12.7"
  }
 },
 "nbformat": 4,
 "nbformat_minor": 5
}
